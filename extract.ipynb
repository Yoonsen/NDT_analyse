{
 "cells": [
  {
   "cell_type": "code",
   "execution_count": 26,
   "id": "b453b2f0-8708-4474-bd60-22f655a7a98d",
   "metadata": {},
   "outputs": [],
   "source": [
    "import pandas as pd\n",
    "import sqlite3"
   ]
  },
  {
   "cell_type": "code",
   "execution_count": 27,
   "id": "a022cc74-e2b8-4578-91e6-71f815af2f74",
   "metadata": {},
   "outputs": [],
   "source": [
    "with sqlite3.connect('NDT/ndt_sql.db') as con:\n",
    "    ndt.to_sql(\"ndt\", con)"
   ]
  },
  {
   "cell_type": "code",
   "execution_count": 59,
   "id": "685e9a2f-3e07-4bdc-b67c-272600b492cc",
   "metadata": {},
   "outputs": [],
   "source": [
    "def pdquery(db, sql, params=()):\n",
    "    with sqlite3.connect(db) as con:\n",
    "        res = pd.read_sql_query(sql, con, params = params)\n",
    "    return res\n",
    "\n",
    "def query(db, sql, params=()):\n",
    "    with sqlite3.connect(db) as con:\n",
    "        res = con.execute(sql,params)\n",
    "    return res.fetchall()"
   ]
  },
  {
   "cell_type": "code",
   "execution_count": 36,
   "id": "fab7e976-47d8-4191-b9b3-3db58f0a969f",
   "metadata": {},
   "outputs": [],
   "source": [
    "ndt_db = 'NDT/ndt_sql.db'"
   ]
  },
  {
   "cell_type": "code",
   "execution_count": 89,
   "id": "bd806105-819a-4d0e-b678-8def503787a9",
   "metadata": {},
   "outputs": [],
   "source": [
    "df = pdquery(ndt_db, \"\"\"\n",
    "    select \n",
    "        a.sent_id, \n",
    "        a.token_order as dep_id, \n",
    "        b.token_order as head_id, \n",
    "        a.form,  \n",
    "        a.deprel, \n",
    "        b.form,\n",
    "        a.lemma as lemma_dep, \n",
    "        b.lemma as lemma_head\n",
    "    from \n",
    "        ndt as a, \n",
    "        ndt as b \n",
    "    where \n",
    "        a.deprel = 'KOORD'  \n",
    "        and a.head = b.token_order \n",
    "        and a.sent_id = b.sent_id \n",
    "    \"\"\")"
   ]
  },
  {
   "cell_type": "code",
   "execution_count": 91,
   "id": "a7a4d12c-7638-4bea-a3c3-b334227d3ca4",
   "metadata": {},
   "outputs": [],
   "source": [
    "df['diff'] = df.dep_id - df.head_id"
   ]
  },
  {
   "cell_type": "code",
   "execution_count": 93,
   "id": "754c7076-89af-4030-8492-d26a1ab6414e",
   "metadata": {},
   "outputs": [
    {
     "data": {
      "text/html": [
       "<div>\n",
       "<style scoped>\n",
       "    .dataframe tbody tr th:only-of-type {\n",
       "        vertical-align: middle;\n",
       "    }\n",
       "\n",
       "    .dataframe tbody tr th {\n",
       "        vertical-align: top;\n",
       "    }\n",
       "\n",
       "    .dataframe thead th {\n",
       "        text-align: right;\n",
       "    }\n",
       "</style>\n",
       "<table border=\"1\" class=\"dataframe\">\n",
       "  <thead>\n",
       "    <tr style=\"text-align: right;\">\n",
       "      <th></th>\n",
       "      <th>sent_id</th>\n",
       "      <th>dep_id</th>\n",
       "      <th>head_id</th>\n",
       "      <th>form</th>\n",
       "      <th>deprel</th>\n",
       "      <th>form</th>\n",
       "      <th>lemma_dep</th>\n",
       "      <th>lemma_head</th>\n",
       "      <th>diff</th>\n",
       "    </tr>\n",
       "  </thead>\n",
       "  <tbody>\n",
       "    <tr>\n",
       "      <th>0</th>\n",
       "      <td>1</td>\n",
       "      <td>3</td>\n",
       "      <td>1</td>\n",
       "      <td>piggvar</td>\n",
       "      <td>KOORD</td>\n",
       "      <td>Lam</td>\n",
       "      <td>piggvar</td>\n",
       "      <td>lam</td>\n",
       "      <td>2</td>\n",
       "    </tr>\n",
       "    <tr>\n",
       "      <th>1</th>\n",
       "      <td>2</td>\n",
       "      <td>3</td>\n",
       "      <td>1</td>\n",
       "      <td>piggvar</td>\n",
       "      <td>KOORD</td>\n",
       "      <td>Kamskjell</td>\n",
       "      <td>piggvar</td>\n",
       "      <td>kamskjell</td>\n",
       "      <td>2</td>\n",
       "    </tr>\n",
       "    <tr>\n",
       "      <th>3</th>\n",
       "      <td>4</td>\n",
       "      <td>24</td>\n",
       "      <td>22</td>\n",
       "      <td>ruccolasalat</td>\n",
       "      <td>KOORD</td>\n",
       "      <td>trøffelhonningvinaigrette</td>\n",
       "      <td>ruccolasalat</td>\n",
       "      <td>trøffelhonningvinaigrette</td>\n",
       "      <td>2</td>\n",
       "    </tr>\n",
       "    <tr>\n",
       "      <th>5</th>\n",
       "      <td>6</td>\n",
       "      <td>10</td>\n",
       "      <td>8</td>\n",
       "      <td>blomkålpuré</td>\n",
       "      <td>KOORD</td>\n",
       "      <td>klasetomatbåter</td>\n",
       "      <td>blomkålpuré</td>\n",
       "      <td>klasetomatbåt</td>\n",
       "      <td>2</td>\n",
       "    </tr>\n",
       "    <tr>\n",
       "      <th>7</th>\n",
       "      <td>6</td>\n",
       "      <td>22</td>\n",
       "      <td>20</td>\n",
       "      <td>fenikkelsmak</td>\n",
       "      <td>KOORD</td>\n",
       "      <td>appelsin</td>\n",
       "      <td>fenikkelsmak</td>\n",
       "      <td>appelsin</td>\n",
       "      <td>2</td>\n",
       "    </tr>\n",
       "    <tr>\n",
       "      <th>...</th>\n",
       "      <td>...</td>\n",
       "      <td>...</td>\n",
       "      <td>...</td>\n",
       "      <td>...</td>\n",
       "      <td>...</td>\n",
       "      <td>...</td>\n",
       "      <td>...</td>\n",
       "      <td>...</td>\n",
       "      <td>...</td>\n",
       "    </tr>\n",
       "    <tr>\n",
       "      <th>22949</th>\n",
       "      <td>37610</td>\n",
       "      <td>10</td>\n",
       "      <td>8</td>\n",
       "      <td>trekkvegar</td>\n",
       "      <td>KOORD</td>\n",
       "      <td>bruk</td>\n",
       "      <td>trekkveg</td>\n",
       "      <td>bruk</td>\n",
       "      <td>2</td>\n",
       "    </tr>\n",
       "    <tr>\n",
       "      <th>22951</th>\n",
       "      <td>37610</td>\n",
       "      <td>23</td>\n",
       "      <td>21</td>\n",
       "      <td>vinterbeite</td>\n",
       "      <td>KOORD</td>\n",
       "      <td>sommar-</td>\n",
       "      <td>vinterbeite</td>\n",
       "      <td>sommar-</td>\n",
       "      <td>2</td>\n",
       "    </tr>\n",
       "    <tr>\n",
       "      <th>22954</th>\n",
       "      <td>37614</td>\n",
       "      <td>23</td>\n",
       "      <td>21</td>\n",
       "      <td>strukturteljingar</td>\n",
       "      <td>KOORD</td>\n",
       "      <td>kalve-</td>\n",
       "      <td>strukturteljing</td>\n",
       "      <td>kalve-</td>\n",
       "      <td>2</td>\n",
       "    </tr>\n",
       "    <tr>\n",
       "      <th>22956</th>\n",
       "      <td>37617</td>\n",
       "      <td>8</td>\n",
       "      <td>6</td>\n",
       "      <td>å</td>\n",
       "      <td>KOORD</td>\n",
       "      <td>stamme</td>\n",
       "      <td>å</td>\n",
       "      <td>stamme</td>\n",
       "      <td>2</td>\n",
       "    </tr>\n",
       "    <tr>\n",
       "      <th>22962</th>\n",
       "      <td>37619</td>\n",
       "      <td>11</td>\n",
       "      <td>9</td>\n",
       "      <td>kondisjonen</td>\n",
       "      <td>KOORD</td>\n",
       "      <td>beiteforholdet</td>\n",
       "      <td>kondisjon</td>\n",
       "      <td>beiteforhold</td>\n",
       "      <td>2</td>\n",
       "    </tr>\n",
       "  </tbody>\n",
       "</table>\n",
       "<p>7698 rows × 9 columns</p>\n",
       "</div>"
      ],
      "text/plain": [
       "       sent_id  dep_id  head_id               form deprel  \\\n",
       "0            1       3        1            piggvar  KOORD   \n",
       "1            2       3        1            piggvar  KOORD   \n",
       "3            4      24       22       ruccolasalat  KOORD   \n",
       "5            6      10        8        blomkålpuré  KOORD   \n",
       "7            6      22       20       fenikkelsmak  KOORD   \n",
       "...        ...     ...      ...                ...    ...   \n",
       "22949    37610      10        8         trekkvegar  KOORD   \n",
       "22951    37610      23       21        vinterbeite  KOORD   \n",
       "22954    37614      23       21  strukturteljingar  KOORD   \n",
       "22956    37617       8        6                  å  KOORD   \n",
       "22962    37619      11        9        kondisjonen  KOORD   \n",
       "\n",
       "                            form        lemma_dep                 lemma_head  \\\n",
       "0                            Lam          piggvar                        lam   \n",
       "1                      Kamskjell          piggvar                  kamskjell   \n",
       "3      trøffelhonningvinaigrette     ruccolasalat  trøffelhonningvinaigrette   \n",
       "5                klasetomatbåter      blomkålpuré              klasetomatbåt   \n",
       "7                       appelsin     fenikkelsmak                   appelsin   \n",
       "...                          ...              ...                        ...   \n",
       "22949                       bruk         trekkveg                       bruk   \n",
       "22951                    sommar-      vinterbeite                    sommar-   \n",
       "22954                     kalve-  strukturteljing                     kalve-   \n",
       "22956                     stamme                å                     stamme   \n",
       "22962             beiteforholdet        kondisjon               beiteforhold   \n",
       "\n",
       "       diff  \n",
       "0         2  \n",
       "1         2  \n",
       "3         2  \n",
       "5         2  \n",
       "7         2  \n",
       "...     ...  \n",
       "22949     2  \n",
       "22951     2  \n",
       "22954     2  \n",
       "22956     2  \n",
       "22962     2  \n",
       "\n",
       "[7698 rows x 9 columns]"
      ]
     },
     "execution_count": 93,
     "metadata": {},
     "output_type": "execute_result"
    }
   ],
   "source": [
    "df[abs(df['diff']) == 2]"
   ]
  },
  {
   "cell_type": "code",
   "execution_count": 95,
   "id": "7af6a746-42c8-4ca3-a257-d902db4f857f",
   "metadata": {},
   "outputs": [
    {
     "data": {
      "text/plain": [
       "count    22963.000000\n",
       "mean         6.041066\n",
       "std          5.476702\n",
       "min          1.000000\n",
       "25%          2.000000\n",
       "50%          4.000000\n",
       "75%          8.000000\n",
       "max         76.000000\n",
       "Name: diff, dtype: float64"
      ]
     },
     "execution_count": 95,
     "metadata": {},
     "output_type": "execute_result"
    }
   ],
   "source": [
    "df['diff'].describe()"
   ]
  },
  {
   "cell_type": "code",
   "execution_count": 86,
   "id": "be35c58d-455a-4684-b089-4ed84c1646ab",
   "metadata": {},
   "outputs": [],
   "source": [
    "def make_sentence(identifier):\n",
    "    return ' '.join([x[0] for x in query(ndt_db, \"select form from ndt where sent_id = ? order by rowid\", (identifier,))])"
   ]
  },
  {
   "cell_type": "code",
   "execution_count": 87,
   "id": "e7054094-2280-4a10-8399-f57af94843d4",
   "metadata": {},
   "outputs": [
    {
     "data": {
      "text/plain": [
       "'Deretter fulgte \" Turbot au Four - purée de chou-fleur \" .'"
      ]
     },
     "execution_count": 87,
     "metadata": {},
     "output_type": "execute_result"
    }
   ],
   "source": [
    "make_sentence(5)"
   ]
  },
  {
   "cell_type": "code",
   "execution_count": 4,
   "id": "c9e5b25c-d8ea-4a3f-82f8-d5edc46ecb7d",
   "metadata": {},
   "outputs": [],
   "source": [
    "ndt = pd.read_csv(\"NDT/ndt_all_reduce.csv\", index_col = 0)"
   ]
  },
  {
   "cell_type": "code",
   "execution_count": 25,
   "id": "1e5b8217-2896-466e-b86a-3332b8224412",
   "metadata": {},
   "outputs": [
    {
     "name": "stdout",
     "output_type": "stream",
     "text": [
      "   token_id  token_order form lemma    pos               feats  head deprel  \\\n",
      "0         1            1  Lam   lam  subst  appell|nøyt|ub|ent     0   FRAG   \n",
      "\n",
      "   sent_id  ud_id language_code data_split  newpar  document_id  \n",
      "0        1      1         nb-NO      train       0          NaN  \n",
      "Empty DataFrame\n",
      "Columns: [token_id, token_order, form, lemma, pos, feats, head, deprel, sent_id, ud_id, language_code, data_split, newpar, document_id]\n",
      "Index: []\n",
      "Empty DataFrame\n",
      "Columns: [token_id, token_order, form, lemma, pos, feats, head, deprel, sent_id, ud_id, language_code, data_split, newpar, document_id]\n",
      "Index: []\n",
      "Empty DataFrame\n",
      "Columns: [token_id, token_order, form, lemma, pos, feats, head, deprel, sent_id, ud_id, language_code, data_split, newpar, document_id]\n",
      "Index: []\n",
      "Empty DataFrame\n",
      "Columns: [token_id, token_order, form, lemma, pos, feats, head, deprel, sent_id, ud_id, language_code, data_split, newpar, document_id]\n",
      "Index: []\n",
      "Empty DataFrame\n",
      "Columns: [token_id, token_order, form, lemma, pos, feats, head, deprel, sent_id, ud_id, language_code, data_split, newpar, document_id]\n",
      "Index: []\n",
      "Empty DataFrame\n",
      "Columns: [token_id, token_order, form, lemma, pos, feats, head, deprel, sent_id, ud_id, language_code, data_split, newpar, document_id]\n",
      "Index: []\n",
      "Empty DataFrame\n",
      "Columns: [token_id, token_order, form, lemma, pos, feats, head, deprel, sent_id, ud_id, language_code, data_split, newpar, document_id]\n",
      "Index: []\n",
      "Empty DataFrame\n",
      "Columns: [token_id, token_order, form, lemma, pos, feats, head, deprel, sent_id, ud_id, language_code, data_split, newpar, document_id]\n",
      "Index: []\n",
      "Empty DataFrame\n",
      "Columns: [token_id, token_order, form, lemma, pos, feats, head, deprel, sent_id, ud_id, language_code, data_split, newpar, document_id]\n",
      "Index: []\n",
      "Empty DataFrame\n",
      "Columns: [token_id, token_order, form, lemma, pos, feats, head, deprel, sent_id, ud_id, language_code, data_split, newpar, document_id]\n",
      "Index: []\n"
     ]
    }
   ],
   "source": [
    "for i,x in enumerate(ndt[ndt[\"deprel\"] == 'KOORD'][[\n",
    "    'token_id', 'sent_id', 'head', 'form', 'lemma'\n",
    "]].iterrows()):\n",
    "    \n",
    "    if i > 10:\n",
    "        break\n",
    "    \n",
    "    print(ndt[(ndt.sent_id == x[1]['sent_id']) & (ndt.token_id == x[1]['head'])])"
   ]
  },
  {
   "cell_type": "code",
   "execution_count": null,
   "id": "58349db2-8a6c-4cd0-bde2-fb748a91e29d",
   "metadata": {},
   "outputs": [],
   "source": []
  }
 ],
 "metadata": {
  "kernelspec": {
   "display_name": "Python 3 (ipykernel)",
   "language": "python",
   "name": "python3"
  },
  "language_info": {
   "codemirror_mode": {
    "name": "ipython",
    "version": 3
   },
   "file_extension": ".py",
   "mimetype": "text/x-python",
   "name": "python",
   "nbconvert_exporter": "python",
   "pygments_lexer": "ipython3",
   "version": "3.9.13"
  }
 },
 "nbformat": 4,
 "nbformat_minor": 5
}
